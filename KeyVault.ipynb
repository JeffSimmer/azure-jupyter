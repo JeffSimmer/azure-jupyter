{
  "cells": [
    {
      "metadata": {
        "trusted": true
      },
      "cell_type": "code",
      "source": "!az login",
      "execution_count": null,
      "outputs": []
    },
    {
      "metadata": {
        "trusted": true
      },
      "cell_type": "code",
      "source": "from azure.common.client_factory import get_client_from_cli_profile\nfrom azure.common.credentials import get_azure_cli_credentials\nfrom azure.keyvault import KeyVaultClient, KeyVaultId\n\n#client = get_client_from_cli_profile(KeyVaultClient)\nclient = KeyVaultClient(get_azure_cli_credentials(resource='https://vault.azure.net')[0])",
      "execution_count": null,
      "outputs": []
    },
    {
      "metadata": {
        "trusted": true
      },
      "cell_type": "code",
      "source": "vault='<yourvault>'",
      "execution_count": null,
      "outputs": []
    },
    {
      "metadata": {
        "trusted": true
      },
      "cell_type": "code",
      "source": "key_bundle = client.create_key('https://'+vault+'.vault.azure.net', 'key1', 'RSA')\nkey_id = KeyVaultId.parse_key_id(key_bundle.key.kid)\nkey_bundle.serialize()",
      "execution_count": null,
      "outputs": []
    },
    {
      "metadata": {
        "trusted": true
      },
      "cell_type": "code",
      "source": "ciphertext = client.encrypt(key_id.vault, key_id.name, key_id.version, 'RSA-OAEP', b'helloencryption')\nciphertext.result",
      "execution_count": null,
      "outputs": []
    },
    {
      "metadata": {
        "trusted": true
      },
      "cell_type": "code",
      "source": "plaintext = client.decrypt(key_id.vault, key_id.name, key_id.version, 'RSA-OAEP', ciphertext.result)\nplaintext.result",
      "execution_count": null,
      "outputs": []
    },
    {
      "metadata": {
        "trusted": true
      },
      "cell_type": "code",
      "source": "",
      "execution_count": null,
      "outputs": []
    }
  ],
  "metadata": {
    "kernelspec": {
      "name": "python36",
      "display_name": "Python 3.6",
      "language": "python"
    },
    "language_info": {
      "mimetype": "text/x-python",
      "nbconvert_exporter": "python",
      "name": "python",
      "pygments_lexer": "ipython3",
      "version": "3.6.6",
      "file_extension": ".py",
      "codemirror_mode": {
        "version": 3,
        "name": "ipython"
      }
    }
  },
  "nbformat": 4,
  "nbformat_minor": 2
}